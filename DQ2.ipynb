{
 "cells": [
  {
   "cell_type": "code",
   "execution_count": 2,
   "metadata": {
    "collapsed": true
   },
   "outputs": [],
   "source": [
    "import pandas as pd"
   ]
  },
  {
   "cell_type": "code",
   "execution_count": 3,
   "metadata": {
    "collapsed": true
   },
   "outputs": [],
   "source": [
    "violation = pd.read_excel('Codes\\' List of Violations 15 aug 2017.xlsx')"
   ]
  },
  {
   "cell_type": "code",
   "execution_count": 8,
   "metadata": {},
   "outputs": [],
   "source": [
    "propstd = pd.read_csv('/Users/mac/Desktop/NSS/property_standard_violation.csv')"
   ]
  },
  {
   "cell_type": "code",
   "execution_count": 3,
   "metadata": {},
   "outputs": [
    {
     "data": {
      "text/html": [
       "<div>\n",
       "<style>\n",
       "    .dataframe thead tr:only-child th {\n",
       "        text-align: right;\n",
       "    }\n",
       "\n",
       "    .dataframe thead th {\n",
       "        text-align: left;\n",
       "    }\n",
       "\n",
       "    .dataframe tbody tr th {\n",
       "        vertical-align: top;\n",
       "    }\n",
       "</style>\n",
       "<table border=\"1\" class=\"dataframe\">\n",
       "  <thead>\n",
       "    <tr style=\"text-align: right;\">\n",
       "      <th></th>\n",
       "      <th>VIOLATION_ID</th>\n",
       "      <th>ORG_ID</th>\n",
       "      <th>VIOLATION_TYPE</th>\n",
       "      <th>VIOLATION_DESC</th>\n",
       "      <th>VIOLATION_TEXT</th>\n",
       "      <th>REMEDIAL_TEXT</th>\n",
       "      <th>TABLE_NAME</th>\n",
       "      <th>EXPIRED_FLAG</th>\n",
       "      <th>DATE_EXPIRED</th>\n",
       "      <th>CREATED_BY</th>\n",
       "      <th>DATE_CREATED</th>\n",
       "      <th>MODIFIED_BY</th>\n",
       "      <th>DATE_MODIFIED</th>\n",
       "      <th>FEE_SETUP_ID</th>\n",
       "      <th>Unnamed: 14</th>\n",
       "    </tr>\n",
       "  </thead>\n",
       "  <tbody>\n",
       "    <tr>\n",
       "      <th>0</th>\n",
       "      <td>1</td>\n",
       "      <td>1</td>\n",
       "      <td>BANNERS</td>\n",
       "      <td>Banners</td>\n",
       "      <td>Section 17.32.060 &amp; 17.32.070 -  Banners: Bann...</td>\n",
       "      <td>CAAZ_BANNERS</td>\n",
       "      <td>NaT</td>\n",
       "      <td>N</td>\n",
       "      <td>NaN</td>\n",
       "      <td>1.0</td>\n",
       "      <td>2014-07-09 08:03:52.640000</td>\n",
       "      <td>NaN</td>\n",
       "      <td>NaT</td>\n",
       "      <td>NaN</td>\n",
       "      <td>NaN</td>\n",
       "    </tr>\n",
       "    <tr>\n",
       "      <th>1</th>\n",
       "      <td>2</td>\n",
       "      <td>1</td>\n",
       "      <td>BGMATOWNER</td>\n",
       "      <td>Proper Maintenance Req - Owner</td>\n",
       "      <td>Section 16.16.030 (B) - Proper maintenance req...</td>\n",
       "      <td>CAAH_BG_MATOWNER</td>\n",
       "      <td>NaT</td>\n",
       "      <td>N</td>\n",
       "      <td>NaN</td>\n",
       "      <td>1.0</td>\n",
       "      <td>2014-07-09 08:03:52.640000</td>\n",
       "      <td>NaN</td>\n",
       "      <td>NaT</td>\n",
       "      <td>NaN</td>\n",
       "      <td>NaN</td>\n",
       "    </tr>\n",
       "    <tr>\n",
       "      <th>2</th>\n",
       "      <td>4</td>\n",
       "      <td>1</td>\n",
       "      <td>BLDGMAINT</td>\n",
       "      <td>Proper Maintenance Req</td>\n",
       "      <td>Section 16.16.030 (A) - Proper maintenance req...</td>\n",
       "      <td>CAAH_BLDG_MAINT</td>\n",
       "      <td>NaT</td>\n",
       "      <td>N</td>\n",
       "      <td>NaN</td>\n",
       "      <td>1.0</td>\n",
       "      <td>2014-07-09 08:03:52.640000</td>\n",
       "      <td>NaN</td>\n",
       "      <td>NaT</td>\n",
       "      <td>NaN</td>\n",
       "      <td>NaN</td>\n",
       "    </tr>\n",
       "    <tr>\n",
       "      <th>3</th>\n",
       "      <td>5</td>\n",
       "      <td>1</td>\n",
       "      <td>BLDGPERMIT</td>\n",
       "      <td>Building Permit Required</td>\n",
       "      <td>Section 16.28.010 - Building Permit Required: ...</td>\n",
       "      <td>CAAB_BLDG_PERMIT</td>\n",
       "      <td>NaT</td>\n",
       "      <td>N</td>\n",
       "      <td>NaN</td>\n",
       "      <td>1.0</td>\n",
       "      <td>2014-07-09 08:03:52.640000</td>\n",
       "      <td>NaN</td>\n",
       "      <td>NaT</td>\n",
       "      <td>NaN</td>\n",
       "      <td>NaN</td>\n",
       "    </tr>\n",
       "    <tr>\n",
       "      <th>4</th>\n",
       "      <td>6</td>\n",
       "      <td>1</td>\n",
       "      <td>BLDGSCOPE</td>\n",
       "      <td>Scope of Building Code</td>\n",
       "      <td>Section 16.16.020 (B) - The provisions of this...</td>\n",
       "      <td>CAAH_BLDG_SCOPE</td>\n",
       "      <td>NaT</td>\n",
       "      <td>N</td>\n",
       "      <td>NaN</td>\n",
       "      <td>1.0</td>\n",
       "      <td>2014-07-09 08:03:52.640000</td>\n",
       "      <td>NaN</td>\n",
       "      <td>NaT</td>\n",
       "      <td>NaN</td>\n",
       "      <td>NaN</td>\n",
       "    </tr>\n",
       "  </tbody>\n",
       "</table>\n",
       "</div>"
      ],
      "text/plain": [
       "  VIOLATION_ID ORG_ID VIOLATION_TYPE                  VIOLATION_DESC  \\\n",
       "0            1      1        BANNERS                         Banners   \n",
       "1            2      1     BGMATOWNER  Proper Maintenance Req - Owner   \n",
       "2            4      1      BLDGMAINT          Proper Maintenance Req   \n",
       "3            5      1     BLDGPERMIT        Building Permit Required   \n",
       "4            6      1      BLDGSCOPE          Scope of Building Code   \n",
       "\n",
       "                                      VIOLATION_TEXT     REMEDIAL_TEXT  \\\n",
       "0  Section 17.32.060 & 17.32.070 -  Banners: Bann...      CAAZ_BANNERS   \n",
       "1  Section 16.16.030 (B) - Proper maintenance req...  CAAH_BG_MATOWNER   \n",
       "2  Section 16.16.030 (A) - Proper maintenance req...   CAAH_BLDG_MAINT   \n",
       "3  Section 16.28.010 - Building Permit Required: ...  CAAB_BLDG_PERMIT   \n",
       "4  Section 16.16.020 (B) - The provisions of this...   CAAH_BLDG_SCOPE   \n",
       "\n",
       "  TABLE_NAME EXPIRED_FLAG DATE_EXPIRED  CREATED_BY  \\\n",
       "0        NaT            N          NaN         1.0   \n",
       "1        NaT            N          NaN         1.0   \n",
       "2        NaT            N          NaN         1.0   \n",
       "3        NaT            N          NaN         1.0   \n",
       "4        NaT            N          NaN         1.0   \n",
       "\n",
       "                 DATE_CREATED MODIFIED_BY DATE_MODIFIED  FEE_SETUP_ID  \\\n",
       "0  2014-07-09 08:03:52.640000         NaN           NaT           NaN   \n",
       "1  2014-07-09 08:03:52.640000         NaN           NaT           NaN   \n",
       "2  2014-07-09 08:03:52.640000         NaN           NaT           NaN   \n",
       "3  2014-07-09 08:03:52.640000         NaN           NaT           NaN   \n",
       "4  2014-07-09 08:03:52.640000         NaN           NaT           NaN   \n",
       "\n",
       "   Unnamed: 14  \n",
       "0          NaN  \n",
       "1          NaN  \n",
       "2          NaN  \n",
       "3          NaN  \n",
       "4          NaN  "
      ]
     },
     "execution_count": 3,
     "metadata": {},
     "output_type": "execute_result"
    }
   ],
   "source": [
    "violation.head()"
   ]
  },
  {
   "cell_type": "code",
   "execution_count": 9,
   "metadata": {},
   "outputs": [
    {
     "data": {
      "text/html": [
       "<div>\n",
       "<style>\n",
       "    .dataframe thead tr:only-child th {\n",
       "        text-align: right;\n",
       "    }\n",
       "\n",
       "    .dataframe thead th {\n",
       "        text-align: left;\n",
       "    }\n",
       "\n",
       "    .dataframe tbody tr th {\n",
       "        vertical-align: top;\n",
       "    }\n",
       "</style>\n",
       "<table border=\"1\" class=\"dataframe\">\n",
       "  <thead>\n",
       "    <tr style=\"text-align: right;\">\n",
       "      <th></th>\n",
       "      <th>Request #</th>\n",
       "      <th>Date Received</th>\n",
       "      <th>Property APN</th>\n",
       "      <th>Property Address</th>\n",
       "      <th>City</th>\n",
       "      <th>State</th>\n",
       "      <th>ZIP</th>\n",
       "      <th>Property Owner</th>\n",
       "      <th>Complaint Source</th>\n",
       "      <th>Reported Problem</th>\n",
       "      <th>Status</th>\n",
       "      <th>Council District</th>\n",
       "      <th>Last Activity Date</th>\n",
       "      <th>Last Activity</th>\n",
       "      <th>Last Activity Result</th>\n",
       "      <th>Violations Noted</th>\n",
       "      <th>Mapped Location</th>\n",
       "    </tr>\n",
       "  </thead>\n",
       "  <tbody>\n",
       "    <tr>\n",
       "      <th>0</th>\n",
       "      <td>17-1156755</td>\n",
       "      <td>05/04/2017</td>\n",
       "      <td>05814005400</td>\n",
       "      <td>121  QUEENS LN</td>\n",
       "      <td>NASHVILLE</td>\n",
       "      <td>TN</td>\n",
       "      <td>37218.0</td>\n",
       "      <td>LUSTER, PATRICIA</td>\n",
       "      <td>EMAIL</td>\n",
       "      <td>HOW TAKEN:  EMAIL\\nHigh grass</td>\n",
       "      <td>DONE</td>\n",
       "      <td>1.0</td>\n",
       "      <td>07/13/2017</td>\n",
       "      <td>Violation Inspection - PS</td>\n",
       "      <td>VIORES</td>\n",
       "      <td>HIGH WEEDS</td>\n",
       "      <td>121 QUEENS LN\\nNASHVILLE, TN 37218\\n(36.213718...</td>\n",
       "    </tr>\n",
       "    <tr>\n",
       "      <th>1</th>\n",
       "      <td>17-1165789</td>\n",
       "      <td>08/24/2017</td>\n",
       "      <td>08116056500</td>\n",
       "      <td>1007  11TH AVE N</td>\n",
       "      <td>NASHVILLE</td>\n",
       "      <td>TN</td>\n",
       "      <td>37208.0</td>\n",
       "      <td>SARGENT, THOMAS JR. &amp; CHRISTINE</td>\n",
       "      <td>OTHER SOURCE</td>\n",
       "      <td>High grass/weeds.</td>\n",
       "      <td>DONE</td>\n",
       "      <td>19.0</td>\n",
       "      <td>08/24/2017</td>\n",
       "      <td>Initial Violation Inspection - PS</td>\n",
       "      <td>PSNVF</td>\n",
       "      <td>NaN</td>\n",
       "      <td>1007 11TH AVE N\\nNASHVILLE, TN 37208\\n(36.1702...</td>\n",
       "    </tr>\n",
       "    <tr>\n",
       "      <th>2</th>\n",
       "      <td>17-1157131</td>\n",
       "      <td>05/09/2017</td>\n",
       "      <td>10703001600</td>\n",
       "      <td>715  ERMAC DR</td>\n",
       "      <td>NASHVILLE</td>\n",
       "      <td>TN</td>\n",
       "      <td>37214.0</td>\n",
       "      <td>H.H. HERITAGE INN OF NASHVILLE, LLC</td>\n",
       "      <td>PHONE</td>\n",
       "      <td>High grass &amp; weeds</td>\n",
       "      <td>DONE</td>\n",
       "      <td>15.0</td>\n",
       "      <td>07/13/2017</td>\n",
       "      <td>Env Court 1st Setting - PS</td>\n",
       "      <td>DMJCFINE</td>\n",
       "      <td>HIGH WEEDS</td>\n",
       "      <td>715 ERMAC DR\\nNASHVILLE, TN 37214\\n(36.146283,...</td>\n",
       "    </tr>\n",
       "    <tr>\n",
       "      <th>3</th>\n",
       "      <td>17-1161502</td>\n",
       "      <td>07/06/2017</td>\n",
       "      <td>07116009000</td>\n",
       "      <td>903  BLUE RIDGE DR</td>\n",
       "      <td>NASHVILLE</td>\n",
       "      <td>TN</td>\n",
       "      <td>37207.0</td>\n",
       "      <td>SIMMONS, MABLINE P.</td>\n",
       "      <td>PHONE</td>\n",
       "      <td>Inoperable vehicle on row.</td>\n",
       "      <td>DONE</td>\n",
       "      <td>5.0</td>\n",
       "      <td>08/24/2017</td>\n",
       "      <td>Initial Violation Inspection - PS</td>\n",
       "      <td>PSNVF</td>\n",
       "      <td>NaN</td>\n",
       "      <td>903 BLUE RIDGE DR\\nNASHVILLE, TN 37207\\n(36.19...</td>\n",
       "    </tr>\n",
       "    <tr>\n",
       "      <th>4</th>\n",
       "      <td>17-1153921</td>\n",
       "      <td>03/06/2017</td>\n",
       "      <td>11813018100</td>\n",
       "      <td>3605B  MAYFLOWER PL</td>\n",
       "      <td>NASHVILLE</td>\n",
       "      <td>TN</td>\n",
       "      <td>37204.0</td>\n",
       "      <td>ROBISON, ALEXANDER B. ET UX</td>\n",
       "      <td>PHONE</td>\n",
       "      <td>Junk, trash &amp; debris</td>\n",
       "      <td>DONE</td>\n",
       "      <td>25.0</td>\n",
       "      <td>04/06/2017</td>\n",
       "      <td>Violation Inspection - PS</td>\n",
       "      <td>VIORES</td>\n",
       "      <td>OPEN STORAGE, JUNK, TRASH, DEBRIS</td>\n",
       "      <td>3605B MAYFLOWER PL\\nNASHVILLE, TN 37204\\n(36.1...</td>\n",
       "    </tr>\n",
       "  </tbody>\n",
       "</table>\n",
       "</div>"
      ],
      "text/plain": [
       "    Request # Date Received Property APN     Property Address       City  \\\n",
       "0  17-1156755    05/04/2017  05814005400       121  QUEENS LN  NASHVILLE   \n",
       "1  17-1165789    08/24/2017  08116056500     1007  11TH AVE N  NASHVILLE   \n",
       "2  17-1157131    05/09/2017  10703001600        715  ERMAC DR  NASHVILLE   \n",
       "3  17-1161502    07/06/2017  07116009000   903  BLUE RIDGE DR  NASHVILLE   \n",
       "4  17-1153921    03/06/2017  11813018100  3605B  MAYFLOWER PL  NASHVILLE   \n",
       "\n",
       "  State      ZIP                       Property Owner Complaint Source  \\\n",
       "0    TN  37218.0                     LUSTER, PATRICIA            EMAIL   \n",
       "1    TN  37208.0      SARGENT, THOMAS JR. & CHRISTINE     OTHER SOURCE   \n",
       "2    TN  37214.0  H.H. HERITAGE INN OF NASHVILLE, LLC            PHONE   \n",
       "3    TN  37207.0                  SIMMONS, MABLINE P.            PHONE   \n",
       "4    TN  37204.0          ROBISON, ALEXANDER B. ET UX            PHONE   \n",
       "\n",
       "                Reported Problem Status  Council District Last Activity Date  \\\n",
       "0  HOW TAKEN:  EMAIL\\nHigh grass   DONE               1.0         07/13/2017   \n",
       "1              High grass/weeds.   DONE              19.0         08/24/2017   \n",
       "2             High grass & weeds   DONE              15.0         07/13/2017   \n",
       "3     Inoperable vehicle on row.   DONE               5.0         08/24/2017   \n",
       "4           Junk, trash & debris   DONE              25.0         04/06/2017   \n",
       "\n",
       "                       Last Activity Last Activity Result  \\\n",
       "0          Violation Inspection - PS               VIORES   \n",
       "1  Initial Violation Inspection - PS                PSNVF   \n",
       "2         Env Court 1st Setting - PS             DMJCFINE   \n",
       "3  Initial Violation Inspection - PS                PSNVF   \n",
       "4          Violation Inspection - PS               VIORES   \n",
       "\n",
       "                    Violations Noted  \\\n",
       "0                         HIGH WEEDS   \n",
       "1                                NaN   \n",
       "2                         HIGH WEEDS   \n",
       "3                                NaN   \n",
       "4  OPEN STORAGE, JUNK, TRASH, DEBRIS   \n",
       "\n",
       "                                     Mapped Location  \n",
       "0  121 QUEENS LN\\nNASHVILLE, TN 37218\\n(36.213718...  \n",
       "1  1007 11TH AVE N\\nNASHVILLE, TN 37208\\n(36.1702...  \n",
       "2  715 ERMAC DR\\nNASHVILLE, TN 37214\\n(36.146283,...  \n",
       "3  903 BLUE RIDGE DR\\nNASHVILLE, TN 37207\\n(36.19...  \n",
       "4  3605B MAYFLOWER PL\\nNASHVILLE, TN 37204\\n(36.1...  "
      ]
     },
     "execution_count": 9,
     "metadata": {},
     "output_type": "execute_result"
    }
   ],
   "source": [
    "propstd.head()"
   ]
  },
  {
   "cell_type": "code",
   "execution_count": 4,
   "metadata": {},
   "outputs": [
    {
     "data": {
      "text/plain": [
       "(934, 15)"
      ]
     },
     "execution_count": 4,
     "metadata": {},
     "output_type": "execute_result"
    }
   ],
   "source": [
    "violation.shape"
   ]
  },
  {
   "cell_type": "code",
   "execution_count": 5,
   "metadata": {},
   "outputs": [
    {
     "data": {
      "text/html": [
       "<div>\n",
       "<style>\n",
       "    .dataframe thead tr:only-child th {\n",
       "        text-align: right;\n",
       "    }\n",
       "\n",
       "    .dataframe thead th {\n",
       "        text-align: left;\n",
       "    }\n",
       "\n",
       "    .dataframe tbody tr th {\n",
       "        vertical-align: top;\n",
       "    }\n",
       "</style>\n",
       "<table border=\"1\" class=\"dataframe\">\n",
       "  <thead>\n",
       "    <tr style=\"text-align: right;\">\n",
       "      <th></th>\n",
       "      <th>VIOLATION_ID</th>\n",
       "      <th>ORG_ID</th>\n",
       "      <th>VIOLATION_TYPE</th>\n",
       "      <th>VIOLATION_DESC</th>\n",
       "      <th>VIOLATION_TEXT</th>\n",
       "      <th>REMEDIAL_TEXT</th>\n",
       "      <th>TABLE_NAME</th>\n",
       "      <th>EXPIRED_FLAG</th>\n",
       "      <th>DATE_EXPIRED</th>\n",
       "      <th>CREATED_BY</th>\n",
       "      <th>DATE_CREATED</th>\n",
       "      <th>MODIFIED_BY</th>\n",
       "      <th>DATE_MODIFIED</th>\n",
       "      <th>FEE_SETUP_ID</th>\n",
       "      <th>Unnamed: 14</th>\n",
       "    </tr>\n",
       "  </thead>\n",
       "  <tbody>\n",
       "    <tr>\n",
       "      <th>929</th>\n",
       "      <td>967</td>\n",
       "      <td>1</td>\n",
       "      <td>BBR38</td>\n",
       "      <td>Suspension Rules</td>\n",
       "      <td>Upon suspension of a beer permit, the permitte...</td>\n",
       "      <td>NaN</td>\n",
       "      <td>NaT</td>\n",
       "      <td>N</td>\n",
       "      <td>NaN</td>\n",
       "      <td>10635.0</td>\n",
       "      <td>2017-05-19 14:10:16.943000</td>\n",
       "      <td>NaN</td>\n",
       "      <td>NaT</td>\n",
       "      <td>NaN</td>\n",
       "      <td>NaN</td>\n",
       "    </tr>\n",
       "    <tr>\n",
       "      <th>930</th>\n",
       "      <td>968</td>\n",
       "      <td>1</td>\n",
       "      <td>BBR40</td>\n",
       "      <td>Deny permit after 6 months</td>\n",
       "      <td>If an application has not been granted or deni...</td>\n",
       "      <td>NaN</td>\n",
       "      <td>NaT</td>\n",
       "      <td>NaN</td>\n",
       "      <td>NaN</td>\n",
       "      <td>NaN</td>\n",
       "      <td>NaN</td>\n",
       "      <td>NaN</td>\n",
       "      <td>NaT</td>\n",
       "      <td>NaN</td>\n",
       "      <td>NaN</td>\n",
       "    </tr>\n",
       "    <tr>\n",
       "      <th>931</th>\n",
       "      <td>A grant and delay will be valid for 90 days.  ...</td>\n",
       "      <td>NaN</td>\n",
       "      <td>NaN</td>\n",
       "      <td>N</td>\n",
       "      <td>NaN</td>\n",
       "      <td>10635</td>\n",
       "      <td>2017-05-19 14:12:16.410</td>\n",
       "      <td>NaN</td>\n",
       "      <td>NaN</td>\n",
       "      <td>NaN</td>\n",
       "      <td>NaN</td>\n",
       "      <td>NaN</td>\n",
       "      <td>NaT</td>\n",
       "      <td>NaN</td>\n",
       "      <td>NaN</td>\n",
       "    </tr>\n",
       "    <tr>\n",
       "      <th>932</th>\n",
       "      <td>969</td>\n",
       "      <td>1</td>\n",
       "      <td>BBR41</td>\n",
       "      <td>No permit issued with complaints</td>\n",
       "      <td>A permit shall not be issued by the Executive ...</td>\n",
       "      <td>NaN</td>\n",
       "      <td>NaT</td>\n",
       "      <td>N</td>\n",
       "      <td>NaN</td>\n",
       "      <td>10635.0</td>\n",
       "      <td>2017-05-19 14:12:53.083000</td>\n",
       "      <td>NaN</td>\n",
       "      <td>NaT</td>\n",
       "      <td>NaN</td>\n",
       "      <td>NaN</td>\n",
       "    </tr>\n",
       "    <tr>\n",
       "      <th>933</th>\n",
       "      <td>970</td>\n",
       "      <td>1</td>\n",
       "      <td>BBR39</td>\n",
       "      <td>Sports Authority Facilities</td>\n",
       "      <td>This rule is applicable only to beer sales wit...</td>\n",
       "      <td>NaN</td>\n",
       "      <td>NaT</td>\n",
       "      <td>N</td>\n",
       "      <td>NaN</td>\n",
       "      <td>10635.0</td>\n",
       "      <td>2017-05-19 14:16:46.803000</td>\n",
       "      <td>NaN</td>\n",
       "      <td>NaT</td>\n",
       "      <td>NaN</td>\n",
       "      <td>NaN</td>\n",
       "    </tr>\n",
       "  </tbody>\n",
       "</table>\n",
       "</div>"
      ],
      "text/plain": [
       "                                          VIOLATION_ID ORG_ID VIOLATION_TYPE  \\\n",
       "929                                                967      1          BBR38   \n",
       "930                                                968      1          BBR40   \n",
       "931  A grant and delay will be valid for 90 days.  ...    NaN            NaN   \n",
       "932                                                969      1          BBR41   \n",
       "933                                                970      1          BBR39   \n",
       "\n",
       "                       VIOLATION_DESC  \\\n",
       "929                  Suspension Rules   \n",
       "930        Deny permit after 6 months   \n",
       "931                                 N   \n",
       "932  No permit issued with complaints   \n",
       "933       Sports Authority Facilities   \n",
       "\n",
       "                                        VIOLATION_TEXT REMEDIAL_TEXT  \\\n",
       "929  Upon suspension of a beer permit, the permitte...           NaN   \n",
       "930  If an application has not been granted or deni...           NaN   \n",
       "931                                                NaN         10635   \n",
       "932  A permit shall not be issued by the Executive ...           NaN   \n",
       "933  This rule is applicable only to beer sales wit...           NaN   \n",
       "\n",
       "                 TABLE_NAME EXPIRED_FLAG DATE_EXPIRED  CREATED_BY  \\\n",
       "929                     NaT            N          NaN     10635.0   \n",
       "930                     NaT          NaN          NaN         NaN   \n",
       "931 2017-05-19 14:12:16.410          NaN          NaN         NaN   \n",
       "932                     NaT            N          NaN     10635.0   \n",
       "933                     NaT            N          NaN     10635.0   \n",
       "\n",
       "                   DATE_CREATED MODIFIED_BY DATE_MODIFIED  FEE_SETUP_ID  \\\n",
       "929  2017-05-19 14:10:16.943000         NaN           NaT           NaN   \n",
       "930                         NaN         NaN           NaT           NaN   \n",
       "931                         NaN         NaN           NaT           NaN   \n",
       "932  2017-05-19 14:12:53.083000         NaN           NaT           NaN   \n",
       "933  2017-05-19 14:16:46.803000         NaN           NaT           NaN   \n",
       "\n",
       "     Unnamed: 14  \n",
       "929          NaN  \n",
       "930          NaN  \n",
       "931          NaN  \n",
       "932          NaN  \n",
       "933          NaN  "
      ]
     },
     "execution_count": 5,
     "metadata": {},
     "output_type": "execute_result"
    }
   ],
   "source": [
    "violation.tail()"
   ]
  },
  {
   "cell_type": "code",
   "execution_count": 6,
   "metadata": {
    "scrolled": true
   },
   "outputs": [
    {
     "data": {
      "text/plain": [
       "N                                           137\n",
       "NaN                                           9\n",
       "LANDLORD REGISTRATION                         2\n",
       "STAGNANT WATER                                2\n",
       "SIGN PERMIT REQUIRED                          2\n",
       "CONSIGNMENT SALE                              2\n",
       "Consignment Sale                              2\n",
       "Hazardous, pathogenic, radioactive waste      2\n",
       "SEWAGE ON GROUND                              2\n",
       "False statement on application                2\n",
       "FAULTY PLUMBING                               2\n",
       "Failure to pay                                2\n",
       "ELECTRICAL SERVICE PANEL                      2\n",
       "JUNK TRASH RAT HARBORAGE                      2\n",
       "EXCESS VEGETATION                             2\n",
       "TRASH CANS                                    2\n",
       "Distance                                      2\n",
       "RAT HARBORAGE GARBAGE                         2\n",
       "FAILURE TO OBTAIN REQUIRED USE PERMIT         1\n",
       "Supplier cannot require brand sales           1\n",
       "Off Sale - consume on or near premises        1\n",
       "Exterior Prop Area – Veh – Dis/Repair         1\n",
       "VENTILATION – HABITABLE SPACES                1\n",
       "UNSAFE PARTS OF CHIMNEY                       1\n",
       "Law violations by owners in past 10 yrs       1\n",
       "Cannot temporary permits with complaints      1\n",
       "EXTERMINATION – OCCUPANT                      1\n",
       "Boarding Requirements                         1\n",
       "REWIRE                                        1\n",
       "EXTERIOR OF BLDGS – INSECT SCREENS RES        1\n",
       "                                           ... \n",
       "Special Event bonafide charity political      1\n",
       "Scope of Building Code                        1\n",
       "Supplier coerce wholesaler agreement          1\n",
       "PAINT EXTERIOR                                1\n",
       "REPAIR DEFECTIVE SERVICE PANEL                1\n",
       "Environmental Court Proceedings               1\n",
       "Fire Safety – Emergency Escape (Height)       1\n",
       "Vacation of buildings                         1\n",
       "Lighting (Emission)                           1\n",
       "Homemade Beer exceed gallon limit             1\n",
       "EXTERIOR OF BUILDINGS – DECKS                 1\n",
       "Permit for single location only               1\n",
       "EXTERIOR OF BLDGS – GUARDS BASEMENT WIND      1\n",
       "Bond revocation                               1\n",
       "Exterior of Bldgs – Handrails and Guards      1\n",
       "Sanitation requirements                       1\n",
       "UNSTOP THE DRAIN ON THE SHOWER                1\n",
       "RE-SECURE THE WATER CLOSET TO THE FLOOR       1\n",
       "GARBAGE CONTAINER LIDS                        1\n",
       "CERTIFICATE OF COMPLIANCE                     1\n",
       "LIGHTING (EMISSION)                           1\n",
       "EXTERIOR OF BUILDINGS – GRAFFITI              1\n",
       "Exterior of Bldgs – Overhang Extensions       1\n",
       "Exterior of Buildings – Exterior Walls        1\n",
       "Security Residence                            1\n",
       "Exterior Prop Area – Vehicles – Parking       1\n",
       "EXTERIOR PROP AREA – FENCING MATERIALS        1\n",
       "Exterior Prop Area – Designated Parking       1\n",
       "EXTERIOR REPAIR – GENERAL                     1\n",
       "Nuisance declared - holes                     1\n",
       "Name: VIOLATION_DESC, Length: 774, dtype: int64"
      ]
     },
     "execution_count": 6,
     "metadata": {},
     "output_type": "execute_result"
    }
   ],
   "source": [
    "violation['VIOLATION_DESC'].value_counts(dropna = False)"
   ]
  },
  {
   "cell_type": "code",
   "execution_count": 7,
   "metadata": {
    "collapsed": true
   },
   "outputs": [],
   "source": [
    "# checking the columns (index column is not shown, unnamed column 14)"
   ]
  },
  {
   "cell_type": "code",
   "execution_count": 8,
   "metadata": {},
   "outputs": [
    {
     "data": {
      "text/plain": [
       "(934, 15)"
      ]
     },
     "execution_count": 8,
     "metadata": {},
     "output_type": "execute_result"
    }
   ],
   "source": [
    "violation.shape\n",
    "\n"
   ]
  },
  {
   "cell_type": "code",
   "execution_count": 9,
   "metadata": {},
   "outputs": [
    {
     "data": {
      "text/plain": [
       "Index(['VIOLATION_ID', 'ORG_ID', 'VIOLATION_TYPE', 'VIOLATION_DESC',\n",
       "       'VIOLATION_TEXT', 'REMEDIAL_TEXT', 'TABLE_NAME', 'EXPIRED_FLAG',\n",
       "       'DATE_EXPIRED', 'CREATED_BY', 'DATE_CREATED', 'MODIFIED_BY',\n",
       "       'DATE_MODIFIED', 'FEE_SETUP_ID', 'Unnamed: 14'],\n",
       "      dtype='object')"
      ]
     },
     "execution_count": 9,
     "metadata": {},
     "output_type": "execute_result"
    }
   ],
   "source": [
    "violation.columns"
   ]
  },
  {
   "cell_type": "code",
   "execution_count": 10,
   "metadata": {
    "collapsed": true
   },
   "outputs": [],
   "source": [
    "# To get the whole pic of the data (data types in the columns etc)"
   ]
  },
  {
   "cell_type": "code",
   "execution_count": 11,
   "metadata": {},
   "outputs": [
    {
     "name": "stdout",
     "output_type": "stream",
     "text": [
      "<class 'pandas.core.frame.DataFrame'>\n",
      "RangeIndex: 934 entries, 0 to 933\n",
      "Data columns (total 15 columns):\n",
      "VIOLATION_ID      928 non-null object\n",
      "ORG_ID            789 non-null object\n",
      "VIOLATION_TYPE    788 non-null object\n",
      "VIOLATION_DESC    925 non-null object\n",
      "VIOLATION_TEXT    666 non-null object\n",
      "REMEDIAL_TEXT     345 non-null object\n",
      "TABLE_NAME        137 non-null datetime64[ns]\n",
      "EXPIRED_FLAG      651 non-null object\n",
      "DATE_EXPIRED      2 non-null object\n",
      "CREATED_BY        650 non-null float64\n",
      "DATE_CREATED      651 non-null object\n",
      "MODIFIED_BY       23 non-null object\n",
      "DATE_MODIFIED     22 non-null datetime64[ns]\n",
      "FEE_SETUP_ID      0 non-null float64\n",
      "Unnamed: 14       0 non-null float64\n",
      "dtypes: datetime64[ns](2), float64(3), object(10)\n",
      "memory usage: 109.5+ KB\n"
     ]
    }
   ],
   "source": [
    "violation.info()"
   ]
  },
  {
   "cell_type": "code",
   "execution_count": 13,
   "metadata": {
    "collapsed": true
   },
   "outputs": [],
   "source": [
    "# Violation_ID should be numeric, while it's object....converting it into numeris"
   ]
  },
  {
   "cell_type": "code",
   "execution_count": 18,
   "metadata": {
    "collapsed": true
   },
   "outputs": [],
   "source": [
    "violation['VIOLATION_ID'] = pd.to_numeric(violation['VIOLATION_ID'], errors='coerce')"
   ]
  },
  {
   "cell_type": "code",
   "execution_count": 16,
   "metadata": {},
   "outputs": [
    {
     "name": "stdout",
     "output_type": "stream",
     "text": [
      "<class 'pandas.core.frame.DataFrame'>\n",
      "RangeIndex: 934 entries, 0 to 933\n",
      "Data columns (total 15 columns):\n",
      "VIOLATION_ID      788 non-null float64\n",
      "ORG_ID            789 non-null object\n",
      "VIOLATION_TYPE    788 non-null object\n",
      "VIOLATION_DESC    925 non-null object\n",
      "VIOLATION_TEXT    666 non-null object\n",
      "REMEDIAL_TEXT     345 non-null object\n",
      "TABLE_NAME        137 non-null datetime64[ns]\n",
      "EXPIRED_FLAG      651 non-null object\n",
      "DATE_EXPIRED      2 non-null object\n",
      "CREATED_BY        650 non-null float64\n",
      "DATE_CREATED      651 non-null object\n",
      "MODIFIED_BY       23 non-null object\n",
      "DATE_MODIFIED     22 non-null datetime64[ns]\n",
      "FEE_SETUP_ID      0 non-null float64\n",
      "Unnamed: 14       0 non-null float64\n",
      "dtypes: datetime64[ns](2), float64(4), object(9)\n",
      "memory usage: 109.5+ KB\n"
     ]
    }
   ],
   "source": [
    "violation.info()"
   ]
  },
  {
   "cell_type": "code",
   "execution_count": null,
   "metadata": {
    "collapsed": true
   },
   "outputs": [],
   "source": [
    "# changing org_ID to in numeric"
   ]
  },
  {
   "cell_type": "code",
   "execution_count": 19,
   "metadata": {
    "collapsed": true
   },
   "outputs": [],
   "source": [
    "violation['ORG_ID'] = pd.to_numeric(violation['ORG_ID'], errors='coerce')"
   ]
  },
  {
   "cell_type": "code",
   "execution_count": 20,
   "metadata": {},
   "outputs": [
    {
     "name": "stdout",
     "output_type": "stream",
     "text": [
      "<class 'pandas.core.frame.DataFrame'>\n",
      "RangeIndex: 934 entries, 0 to 933\n",
      "Data columns (total 15 columns):\n",
      "VIOLATION_ID      788 non-null float64\n",
      "ORG_ID            788 non-null float64\n",
      "VIOLATION_TYPE    788 non-null object\n",
      "VIOLATION_DESC    925 non-null object\n",
      "VIOLATION_TEXT    666 non-null object\n",
      "REMEDIAL_TEXT     345 non-null object\n",
      "TABLE_NAME        137 non-null datetime64[ns]\n",
      "EXPIRED_FLAG      651 non-null object\n",
      "DATE_EXPIRED      2 non-null object\n",
      "CREATED_BY        650 non-null float64\n",
      "DATE_CREATED      651 non-null object\n",
      "MODIFIED_BY       23 non-null object\n",
      "DATE_MODIFIED     22 non-null datetime64[ns]\n",
      "FEE_SETUP_ID      0 non-null float64\n",
      "Unnamed: 14       0 non-null float64\n",
      "dtypes: datetime64[ns](2), float64(5), object(8)\n",
      "memory usage: 109.5+ KB\n"
     ]
    }
   ],
   "source": [
    "violation.info()"
   ]
  },
  {
   "cell_type": "code",
   "execution_count": 12,
   "metadata": {
    "collapsed": true
   },
   "outputs": [],
   "source": [
    "# To get the unique values or frequency distribution in each column"
   ]
  },
  {
   "cell_type": "code",
   "execution_count": 21,
   "metadata": {},
   "outputs": [
    {
     "data": {
      "text/plain": [
       "NaN       146\n",
       " 855.0      1\n",
       " 506.0      1\n",
       " 151.0      1\n",
       " 435.0      1\n",
       "Name: VIOLATION_ID, dtype: int64"
      ]
     },
     "execution_count": 21,
     "metadata": {},
     "output_type": "execute_result"
    }
   ],
   "source": [
    "violation['VIOLATION_ID'].value_counts(dropna = False).head()"
   ]
  },
  {
   "cell_type": "code",
   "execution_count": 23,
   "metadata": {},
   "outputs": [
    {
     "data": {
      "text/plain": [
       " 1.0    788\n",
       "NaN     146\n",
       "Name: ORG_ID, dtype: int64"
      ]
     },
     "execution_count": 23,
     "metadata": {},
     "output_type": "execute_result"
    }
   ],
   "source": [
    "violation['ORG_ID'].value_counts(dropna = False)"
   ]
  },
  {
   "cell_type": "code",
   "execution_count": 34,
   "metadata": {},
   "outputs": [
    {
     "data": {
      "text/plain": [
       "NaN                     146\n",
       "BB708180                  1\n",
       "CAAE_ELECSYS_HAZ          1\n",
       "BB0708120B                1\n",
       "CAAH_EXT_ROD              1\n",
       "BBR1                      1\n",
       "CAAH_EXT_PORC             1\n",
       "CAAH_VENT_DRYER           1\n",
       "QUARHOLE                  1\n",
       "CAAZ_STRP_OccLimits       1\n",
       "EXTGRAD                   1\n",
       "TRACTRAIL                 1\n",
       "CAAH_EXT_PIDNRES          1\n",
       "BT575112B                 1\n",
       "FIREPSMDIN                1\n",
       "CAAZ_SGN_PROHBPORT        1\n",
       "CAP23                     1\n",
       "CAP27                     1\n",
       "OPSTVEH                   1\n",
       "PLUMEMFAC                 1\n",
       "CAST24                    1\n",
       "CAE01                     1\n",
       "BBR29                     1\n",
       "CAGM03                    1\n",
       "BT5755032A                1\n",
       "CAST15                    1\n",
       "CAST23                    1\n",
       "CAP46                     1\n",
       "BT575103A5                1\n",
       "CAST34                    1\n",
       "                       ... \n",
       "BT575105B1                1\n",
       "BB708230F                 1\n",
       "BBR39                     1\n",
       "BT575504E                 1\n",
       "CAAZ_SIGN_MAT             1\n",
       "HDPM_GT_RATS              1\n",
       "BT575504C3                1\n",
       "TOLRMLOC                  1\n",
       "EXTPTSID                  1\n",
       "BT575301C                 1\n",
       "EXTSAN                    1\n",
       "EXTPTWD                   1\n",
       "BBR21                     1\n",
       "BBR9                      1\n",
       "CAAZ_STRP_Noise           1\n",
       "CAAH_EXT_STMEM            1\n",
       "BBR32                     1\n",
       "CAAH_BOARDING_REQU        1\n",
       "CAAZ_SIGN_POLEN           1\n",
       "CAAH_EXT_BALCO            1\n",
       "FIRESMKDET                1\n",
       "BT575101A3                1\n",
       "CAAA_PREMIS_ID_RES        1\n",
       "CAAZ_STRP_RV              1\n",
       "CAAE_ELECFAC              1\n",
       "CAAH_BLDG_SCOPE           1\n",
       "CAAP_TOLRM_LOC            1\n",
       "CAAP_SAN_DRAIN_MAINT      1\n",
       "EXTGATE                   1\n",
       "CAP03                     1\n",
       "Name: VIOLATION_TYPE, Length: 789, dtype: int64"
      ]
     },
     "execution_count": 34,
     "metadata": {},
     "output_type": "execute_result"
    }
   ],
   "source": [
    "violation['VIOLATION_TYPE'].value_counts(dropna = False)"
   ]
  },
  {
   "cell_type": "code",
   "execution_count": 50,
   "metadata": {},
   "outputs": [
    {
     "data": {
      "text/plain": [
       "NaN                           283\n",
       "1900-01-01 00:00:00           257\n",
       "2014-07-09 08:03:52.640000    207\n",
       "2017-04-06 00:00:00           140\n",
       "2017-05-19 13:01:37.120000      1\n",
       "2016-09-12 16:15:18.687000      1\n",
       "2017-05-19 14:04:56.020000      1\n",
       "2017-05-19 14:10:16.943000      1\n",
       "2014-11-24 07:55:45.320000      1\n",
       "2017-05-19 13:38:33.533000      1\n",
       "2017-05-19 13:56:24.863000      1\n",
       "2017-05-15 05:45:57.323000      1\n",
       "2017-05-19 14:08:59.410000      1\n",
       "2017-05-15 05:45:57.307000      1\n",
       "2014-10-01 06:46:35.093000      1\n",
       "2017-05-15 05:45:57.297000      1\n",
       "2017-05-19 13:04:56.403000      1\n",
       "2016-09-12 16:22:47.427000      1\n",
       "2014-10-01 06:47:54.507000      1\n",
       "10635                           1\n",
       "2017-05-19 12:56:40.027000      1\n",
       "2014-10-01 06:48:29.360000      1\n",
       "2017-05-19 12:52:28.230000      1\n",
       "2017-05-19 14:12:53.083000      1\n",
       "2016-09-12 16:16:10.547000      1\n",
       "2017-05-19 12:55:49.917000      1\n",
       "2017-05-15 05:45:57.330000      1\n",
       "2017-05-19 12:53:23.090000      1\n",
       "2017-05-19 13:59:48.627000      1\n",
       "2017-05-19 14:03:34.833000      1\n",
       "2017-05-15 05:45:57.313000      1\n",
       "2017-05-19 13:29:30.797000      1\n",
       "2017-05-19 11:43:37.910000      1\n",
       "2017-05-19 12:54:21.230000      1\n",
       "2017-05-15 05:45:57.337000      1\n",
       "2017-05-19 12:55:11.543000      1\n",
       "2017-05-19 13:06:28.623000      1\n",
       "2016-09-12 16:22:10.503000      1\n",
       "2017-05-19 14:16:46.803000      1\n",
       "2017-05-19 12:49:08.120000      1\n",
       "2016-09-12 16:18:37.377000      1\n",
       "2016-09-12 16:16:53.703000      1\n",
       "2017-05-19 13:03:29.120000      1\n",
       "2017-05-19 12:45:45.137000      1\n",
       "2016-09-12 16:20:04.520000      1\n",
       "2017-05-15 05:45:57.303000      1\n",
       "2016-09-12 16:20:47.690000      1\n",
       "2017-05-15 05:45:57.320000      1\n",
       "2017-05-19 13:05:39.793000      1\n",
       "2017-05-19 12:50:51.590000      1\n",
       "2016-09-12 16:17:54.640000      1\n",
       "Name: DATE_CREATED, dtype: int64"
      ]
     },
     "execution_count": 50,
     "metadata": {},
     "output_type": "execute_result"
    }
   ],
   "source": [
    "violation['DATE_CREATED'].value_counts(dropna = False)"
   ]
  },
  {
   "cell_type": "code",
   "execution_count": 36,
   "metadata": {
    "collapsed": true
   },
   "outputs": [],
   "source": [
    "# descriptive statistics on all numeric data"
   ]
  },
  {
   "cell_type": "code",
   "execution_count": 37,
   "metadata": {},
   "outputs": [
    {
     "data": {
      "text/html": [
       "<div>\n",
       "<style>\n",
       "    .dataframe thead tr:only-child th {\n",
       "        text-align: right;\n",
       "    }\n",
       "\n",
       "    .dataframe thead th {\n",
       "        text-align: left;\n",
       "    }\n",
       "\n",
       "    .dataframe tbody tr th {\n",
       "        vertical-align: top;\n",
       "    }\n",
       "</style>\n",
       "<table border=\"1\" class=\"dataframe\">\n",
       "  <thead>\n",
       "    <tr style=\"text-align: right;\">\n",
       "      <th></th>\n",
       "      <th>CREATED_BY</th>\n",
       "      <th>FEE_SETUP_ID</th>\n",
       "      <th>Unnamed: 14</th>\n",
       "    </tr>\n",
       "  </thead>\n",
       "  <tbody>\n",
       "    <tr>\n",
       "      <th>count</th>\n",
       "      <td>650.000000</td>\n",
       "      <td>0.0</td>\n",
       "      <td>0.0</td>\n",
       "    </tr>\n",
       "    <tr>\n",
       "      <th>mean</th>\n",
       "      <td>418.852308</td>\n",
       "      <td>NaN</td>\n",
       "      <td>NaN</td>\n",
       "    </tr>\n",
       "    <tr>\n",
       "      <th>std</th>\n",
       "      <td>2045.858659</td>\n",
       "      <td>NaN</td>\n",
       "      <td>NaN</td>\n",
       "    </tr>\n",
       "    <tr>\n",
       "      <th>min</th>\n",
       "      <td>1.000000</td>\n",
       "      <td>NaN</td>\n",
       "      <td>NaN</td>\n",
       "    </tr>\n",
       "    <tr>\n",
       "      <th>25%</th>\n",
       "      <td>1.000000</td>\n",
       "      <td>NaN</td>\n",
       "      <td>NaN</td>\n",
       "    </tr>\n",
       "    <tr>\n",
       "      <th>50%</th>\n",
       "      <td>2.000000</td>\n",
       "      <td>NaN</td>\n",
       "      <td>NaN</td>\n",
       "    </tr>\n",
       "    <tr>\n",
       "      <th>75%</th>\n",
       "      <td>2.000000</td>\n",
       "      <td>NaN</td>\n",
       "      <td>NaN</td>\n",
       "    </tr>\n",
       "    <tr>\n",
       "      <th>max</th>\n",
       "      <td>10635.000000</td>\n",
       "      <td>NaN</td>\n",
       "      <td>NaN</td>\n",
       "    </tr>\n",
       "  </tbody>\n",
       "</table>\n",
       "</div>"
      ],
      "text/plain": [
       "         CREATED_BY  FEE_SETUP_ID  Unnamed: 14\n",
       "count    650.000000           0.0          0.0\n",
       "mean     418.852308           NaN          NaN\n",
       "std     2045.858659           NaN          NaN\n",
       "min        1.000000           NaN          NaN\n",
       "25%        1.000000           NaN          NaN\n",
       "50%        2.000000           NaN          NaN\n",
       "75%        2.000000           NaN          NaN\n",
       "max    10635.000000           NaN          NaN"
      ]
     },
     "execution_count": 37,
     "metadata": {},
     "output_type": "execute_result"
    }
   ],
   "source": [
    "violation.describe()"
   ]
  },
  {
   "cell_type": "code",
   "execution_count": 39,
   "metadata": {
    "collapsed": true
   },
   "outputs": [],
   "source": [
    "import matplotlib.pyplot as plt"
   ]
  },
  {
   "cell_type": "code",
   "execution_count": 47,
   "metadata": {},
   "outputs": [
    {
     "data": {
      "text/plain": [
       "<matplotlib.axes._subplots.AxesSubplot at 0x11e021f98>"
      ]
     },
     "execution_count": 47,
     "metadata": {},
     "output_type": "execute_result"
    }
   ],
   "source": [
    "violation['CREATED_BY'].plot(kind = 'hist')"
   ]
  },
  {
   "cell_type": "code",
   "execution_count": 48,
   "metadata": {},
   "outputs": [
    {
     "data": {
      "image/png": "[encoded data removed]",
      "text/plain": [
       "<matplotlib.figure.Figure at 0x11e07aac8>"
      ]
     },
     "metadata": {},
     "output_type": "display_data"
    }
   ],
   "source": [
    "plt.show()"
   ]
  },
  {
   "cell_type": "code",
   "execution_count": 24,
   "metadata": {},
   "outputs": [
    {
     "data": {
      "text/plain": [
       "(934, 15)"
      ]
     },
     "execution_count": 24,
     "metadata": {},
     "output_type": "execute_result"
    }
   ],
   "source": [
    "violation.shape"
   ]
  },
  {
   "cell_type": "code",
   "execution_count": 25,
   "metadata": {
    "collapsed": true
   },
   "outputs": [],
   "source": [
    "violationdrdup =violation.drop_duplicates()"
   ]
  },
  {
   "cell_type": "code",
   "execution_count": 26,
   "metadata": {},
   "outputs": [
    {
     "data": {
      "text/plain": [
       "(800, 15)"
      ]
     },
     "execution_count": 26,
     "metadata": {},
     "output_type": "execute_result"
    }
   ],
   "source": [
    "violationdrdup.shape"
   ]
  },
  {
   "cell_type": "code",
   "execution_count": 27,
   "metadata": {},
   "outputs": [
    {
     "name": "stdout",
     "output_type": "stream",
     "text": [
      "<class 'pandas.core.frame.DataFrame'>\n",
      "Int64Index: 800 entries, 0 to 933\n",
      "Data columns (total 15 columns):\n",
      "VIOLATION_ID      788 non-null float64\n",
      "ORG_ID            788 non-null float64\n",
      "VIOLATION_TYPE    788 non-null object\n",
      "VIOLATION_DESC    799 non-null object\n",
      "VIOLATION_TEXT    666 non-null object\n",
      "REMEDIAL_TEXT     219 non-null object\n",
      "TABLE_NAME        11 non-null datetime64[ns]\n",
      "EXPIRED_FLAG      651 non-null object\n",
      "DATE_EXPIRED      2 non-null object\n",
      "CREATED_BY        650 non-null float64\n",
      "DATE_CREATED      651 non-null object\n",
      "MODIFIED_BY       23 non-null object\n",
      "DATE_MODIFIED     22 non-null datetime64[ns]\n",
      "FEE_SETUP_ID      0 non-null float64\n",
      "Unnamed: 14       0 non-null float64\n",
      "dtypes: datetime64[ns](2), float64(5), object(8)\n",
      "memory usage: 140.0+ KB\n"
     ]
    }
   ],
   "source": [
    "violationdrdup.info()"
   ]
  },
  {
   "cell_type": "code",
   "execution_count": 28,
   "metadata": {
    "collapsed": true
   },
   "outputs": [],
   "source": [
    "# dropping last 2 columns"
   ]
  },
  {
   "cell_type": "code",
   "execution_count": 37,
   "metadata": {
    "collapsed": true
   },
   "outputs": [],
   "source": [
    "violationdrdup13 = violationdrdup.iloc[:,:13]"
   ]
  },
  {
   "cell_type": "code",
   "execution_count": 38,
   "metadata": {},
   "outputs": [
    {
     "name": "stdout",
     "output_type": "stream",
     "text": [
      "<class 'pandas.core.frame.DataFrame'>\n",
      "Int64Index: 800 entries, 0 to 933\n",
      "Data columns (total 13 columns):\n",
      "VIOLATION_ID      788 non-null float64\n",
      "ORG_ID            788 non-null float64\n",
      "VIOLATION_TYPE    788 non-null object\n",
      "VIOLATION_DESC    799 non-null object\n",
      "VIOLATION_TEXT    666 non-null object\n",
      "REMEDIAL_TEXT     219 non-null object\n",
      "TABLE_NAME        11 non-null datetime64[ns]\n",
      "EXPIRED_FLAG      651 non-null object\n",
      "DATE_EXPIRED      2 non-null object\n",
      "CREATED_BY        650 non-null float64\n",
      "DATE_CREATED      651 non-null object\n",
      "MODIFIED_BY       23 non-null object\n",
      "DATE_MODIFIED     22 non-null datetime64[ns]\n",
      "dtypes: datetime64[ns](2), float64(3), object(8)\n",
      "memory usage: 127.5+ KB\n"
     ]
    }
   ],
   "source": [
    "violationdrdup13.info()"
   ]
  },
  {
   "cell_type": "code",
   "execution_count": 39,
   "metadata": {},
   "outputs": [
    {
     "data": {
      "text/html": [
       "<div>\n",
       "<style>\n",
       "    .dataframe thead tr:only-child th {\n",
       "        text-align: right;\n",
       "    }\n",
       "\n",
       "    .dataframe thead th {\n",
       "        text-align: left;\n",
       "    }\n",
       "\n",
       "    .dataframe tbody tr th {\n",
       "        vertical-align: top;\n",
       "    }\n",
       "</style>\n",
       "<table border=\"1\" class=\"dataframe\">\n",
       "  <thead>\n",
       "    <tr style=\"text-align: right;\">\n",
       "      <th></th>\n",
       "      <th>VIOLATION_ID</th>\n",
       "      <th>ORG_ID</th>\n",
       "      <th>VIOLATION_TYPE</th>\n",
       "      <th>VIOLATION_DESC</th>\n",
       "      <th>VIOLATION_TEXT</th>\n",
       "      <th>REMEDIAL_TEXT</th>\n",
       "      <th>TABLE_NAME</th>\n",
       "      <th>EXPIRED_FLAG</th>\n",
       "      <th>DATE_EXPIRED</th>\n",
       "      <th>CREATED_BY</th>\n",
       "      <th>DATE_CREATED</th>\n",
       "      <th>MODIFIED_BY</th>\n",
       "      <th>DATE_MODIFIED</th>\n",
       "    </tr>\n",
       "  </thead>\n",
       "  <tbody>\n",
       "    <tr>\n",
       "      <th>0</th>\n",
       "      <td>1.0</td>\n",
       "      <td>1.0</td>\n",
       "      <td>BANNERS</td>\n",
       "      <td>Banners</td>\n",
       "      <td>Section 17.32.060 &amp; 17.32.070 -  Banners: Bann...</td>\n",
       "      <td>CAAZ_BANNERS</td>\n",
       "      <td>NaT</td>\n",
       "      <td>N</td>\n",
       "      <td>NaN</td>\n",
       "      <td>1.0</td>\n",
       "      <td>2014-07-09 08:03:52.640000</td>\n",
       "      <td>NaN</td>\n",
       "      <td>NaT</td>\n",
       "    </tr>\n",
       "    <tr>\n",
       "      <th>1</th>\n",
       "      <td>2.0</td>\n",
       "      <td>1.0</td>\n",
       "      <td>BGMATOWNER</td>\n",
       "      <td>Proper Maintenance Req - Owner</td>\n",
       "      <td>Section 16.16.030 (B) - Proper maintenance req...</td>\n",
       "      <td>CAAH_BG_MATOWNER</td>\n",
       "      <td>NaT</td>\n",
       "      <td>N</td>\n",
       "      <td>NaN</td>\n",
       "      <td>1.0</td>\n",
       "      <td>2014-07-09 08:03:52.640000</td>\n",
       "      <td>NaN</td>\n",
       "      <td>NaT</td>\n",
       "    </tr>\n",
       "    <tr>\n",
       "      <th>2</th>\n",
       "      <td>4.0</td>\n",
       "      <td>1.0</td>\n",
       "      <td>BLDGMAINT</td>\n",
       "      <td>Proper Maintenance Req</td>\n",
       "      <td>Section 16.16.030 (A) - Proper maintenance req...</td>\n",
       "      <td>CAAH_BLDG_MAINT</td>\n",
       "      <td>NaT</td>\n",
       "      <td>N</td>\n",
       "      <td>NaN</td>\n",
       "      <td>1.0</td>\n",
       "      <td>2014-07-09 08:03:52.640000</td>\n",
       "      <td>NaN</td>\n",
       "      <td>NaT</td>\n",
       "    </tr>\n",
       "    <tr>\n",
       "      <th>3</th>\n",
       "      <td>5.0</td>\n",
       "      <td>1.0</td>\n",
       "      <td>BLDGPERMIT</td>\n",
       "      <td>Building Permit Required</td>\n",
       "      <td>Section 16.28.010 - Building Permit Required: ...</td>\n",
       "      <td>CAAB_BLDG_PERMIT</td>\n",
       "      <td>NaT</td>\n",
       "      <td>N</td>\n",
       "      <td>NaN</td>\n",
       "      <td>1.0</td>\n",
       "      <td>2014-07-09 08:03:52.640000</td>\n",
       "      <td>NaN</td>\n",
       "      <td>NaT</td>\n",
       "    </tr>\n",
       "    <tr>\n",
       "      <th>4</th>\n",
       "      <td>6.0</td>\n",
       "      <td>1.0</td>\n",
       "      <td>BLDGSCOPE</td>\n",
       "      <td>Scope of Building Code</td>\n",
       "      <td>Section 16.16.020 (B) - The provisions of this...</td>\n",
       "      <td>CAAH_BLDG_SCOPE</td>\n",
       "      <td>NaT</td>\n",
       "      <td>N</td>\n",
       "      <td>NaN</td>\n",
       "      <td>1.0</td>\n",
       "      <td>2014-07-09 08:03:52.640000</td>\n",
       "      <td>NaN</td>\n",
       "      <td>NaT</td>\n",
       "    </tr>\n",
       "  </tbody>\n",
       "</table>\n",
       "</div>"
      ],
      "text/plain": [
       "   VIOLATION_ID  ORG_ID VIOLATION_TYPE                  VIOLATION_DESC  \\\n",
       "0           1.0     1.0        BANNERS                         Banners   \n",
       "1           2.0     1.0     BGMATOWNER  Proper Maintenance Req - Owner   \n",
       "2           4.0     1.0      BLDGMAINT          Proper Maintenance Req   \n",
       "3           5.0     1.0     BLDGPERMIT        Building Permit Required   \n",
       "4           6.0     1.0      BLDGSCOPE          Scope of Building Code   \n",
       "\n",
       "                                      VIOLATION_TEXT     REMEDIAL_TEXT  \\\n",
       "0  Section 17.32.060 & 17.32.070 -  Banners: Bann...      CAAZ_BANNERS   \n",
       "1  Section 16.16.030 (B) - Proper maintenance req...  CAAH_BG_MATOWNER   \n",
       "2  Section 16.16.030 (A) - Proper maintenance req...   CAAH_BLDG_MAINT   \n",
       "3  Section 16.28.010 - Building Permit Required: ...  CAAB_BLDG_PERMIT   \n",
       "4  Section 16.16.020 (B) - The provisions of this...   CAAH_BLDG_SCOPE   \n",
       "\n",
       "  TABLE_NAME EXPIRED_FLAG DATE_EXPIRED  CREATED_BY  \\\n",
       "0        NaT            N          NaN         1.0   \n",
       "1        NaT            N          NaN         1.0   \n",
       "2        NaT            N          NaN         1.0   \n",
       "3        NaT            N          NaN         1.0   \n",
       "4        NaT            N          NaN         1.0   \n",
       "\n",
       "                 DATE_CREATED MODIFIED_BY DATE_MODIFIED  \n",
       "0  2014-07-09 08:03:52.640000         NaN           NaT  \n",
       "1  2014-07-09 08:03:52.640000         NaN           NaT  \n",
       "2  2014-07-09 08:03:52.640000         NaN           NaT  \n",
       "3  2014-07-09 08:03:52.640000         NaN           NaT  \n",
       "4  2014-07-09 08:03:52.640000         NaN           NaT  "
      ]
     },
     "execution_count": 39,
     "metadata": {},
     "output_type": "execute_result"
    }
   ],
   "source": [
    "violationdrdup13.head()"
   ]
  },
  {
   "cell_type": "code",
   "execution_count": 51,
   "metadata": {
    "collapsed": true
   },
   "outputs": [],
   "source": [
    "violationdrdup13['VIOLATION_ID'] =violationdrdup13['VIOLATION_ID'].dropna()"
   ]
  },
  {
   "cell_type": "code",
   "execution_count": 52,
   "metadata": {},
   "outputs": [
    {
     "name": "stdout",
     "output_type": "stream",
     "text": [
      "<class 'pandas.core.frame.DataFrame'>\n",
      "Int64Index: 800 entries, 0 to 933\n",
      "Data columns (total 13 columns):\n",
      "VIOLATION_ID      788 non-null float64\n",
      "ORG_ID            788 non-null float64\n",
      "VIOLATION_TYPE    788 non-null object\n",
      "VIOLATION_DESC    799 non-null object\n",
      "VIOLATION_TEXT    666 non-null object\n",
      "REMEDIAL_TEXT     219 non-null object\n",
      "TABLE_NAME        11 non-null datetime64[ns]\n",
      "EXPIRED_FLAG      651 non-null object\n",
      "DATE_EXPIRED      2 non-null object\n",
      "CREATED_BY        650 non-null float64\n",
      "DATE_CREATED      651 non-null object\n",
      "MODIFIED_BY       23 non-null object\n",
      "DATE_MODIFIED     22 non-null datetime64[ns]\n",
      "dtypes: datetime64[ns](2), float64(3), object(8)\n",
      "memory usage: 127.5+ KB\n"
     ]
    }
   ],
   "source": [
    "violationdrdup13.info()"
   ]
  },
  {
   "cell_type": "code",
   "execution_count": 53,
   "metadata": {},
   "outputs": [
    {
     "data": {
      "text/plain": [
       "NaN       12\n",
       " 855.0     1\n",
       " 506.0     1\n",
       " 151.0     1\n",
       " 435.0     1\n",
       " 149.0     1\n",
       " 687.0     1\n",
       " 524.0     1\n",
       " 594.0     1\n",
       " 516.0     1\n",
       " 510.0     1\n",
       " 415.0     1\n",
       " 545.0     1\n",
       " 738.0     1\n",
       " 494.0     1\n",
       " 473.0     1\n",
       " 490.0     1\n",
       " 478.0     1\n",
       " 395.0     1\n",
       " 964.0     1\n",
       " 643.0     1\n",
       " 486.0     1\n",
       " 405.0     1\n",
       " 948.0     1\n",
       " 157.0     1\n",
       " 163.0     1\n",
       " 875.0     1\n",
       " 929.0     1\n",
       " 402.0     1\n",
       " 390.0     1\n",
       "          ..\n",
       " 804.0     1\n",
       " 178.0     1\n",
       " 174.0     1\n",
       " 764.0     1\n",
       " 170.0     1\n",
       " 420.0     1\n",
       " 428.0     1\n",
       " 436.0     1\n",
       " 632.0     1\n",
       " 856.0     1\n",
       " 824.0     1\n",
       " 808.0     1\n",
       " 776.0     1\n",
       " 760.0     1\n",
       " 728.0     1\n",
       " 712.0     1\n",
       " 680.0     1\n",
       " 664.0     1\n",
       " 600.0     1\n",
       " 444.0     1\n",
       " 584.0     1\n",
       " 552.0     1\n",
       " 536.0     1\n",
       " 508.0     1\n",
       " 500.0     1\n",
       " 484.0     1\n",
       " 476.0     1\n",
       " 460.0     1\n",
       " 452.0     1\n",
       " 1.0       1\n",
       "Name: VIOLATION_ID, Length: 789, dtype: int64"
      ]
     },
     "execution_count": 53,
     "metadata": {},
     "output_type": "execute_result"
    }
   ],
   "source": [
    "violationdrdup13['VIOLATION_ID'].value_counts(dropna = False)"
   ]
  },
  {
   "cell_type": "code",
   "execution_count": null,
   "metadata": {
    "collapsed": true
   },
   "outputs": [],
   "source": []
  }
 ],
 "metadata": {
  "kernelspec": {
   "display_name": "Python 3",
   "language": "python",
   "name": "python3"
  },
  "language_info": {
   "codemirror_mode": {
    "name": "ipython",
    "version": 3
   },
   "file_extension": ".py",
   "mimetype": "text/x-python",
   "name": "python",
   "nbconvert_exporter": "python",
   "pygments_lexer": "ipython3",
   "version": "3.6.2"
  }
 },
 "nbformat": 4,
 "nbformat_minor": 2
}
